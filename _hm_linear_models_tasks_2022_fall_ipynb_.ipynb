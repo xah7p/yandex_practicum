{
  "cells": [
    {
      "cell_type": "markdown",
      "metadata": {
        "id": "S1KIc_92qxuj"
      },
      "source": [
        "# Домашнее задание - линейная регрессия"
      ]
    },
    {
      "cell_type": "markdown",
      "metadata": {
        "id": "pwvjefYTqxul"
      },
      "source": [
        "### Работа с признаками (8 баллов)"
      ]
    },
    {
      "cell_type": "markdown",
      "metadata": {
        "id": "zP5295-6qxum"
      },
      "source": [
        "Скачайте датасет из материалов к уроку или по ссылке https://raw.githubusercontent.com/jupiterzhuo/travel-insurance/master/travel%20insurance.csv\n",
        "\n",
        "\n",
        "Описание признаков:\n",
        "\n",
        "* Agency — название страхового агентства\n",
        "* Agency Type — тип страхового агентства\n",
        "* Distribution Channel — канал продвижения страхового агентства\n",
        "* Product Name — название страхового продукта\n",
        "* Duration — длительность поездки (количество дней)\n",
        "* Destination — направление поездки\n",
        "* Net Sales — сумма продаж\n",
        "* Commission (in value) — комиссия страхового агентства\n",
        "* Gender — пол застрахованного\n",
        "* Age — возраст застрахованного\n",
        "\n",
        "Ответ:\n",
        "* Claim — потребовалась ли страховая выплата: «да» — 1, «нет» — 0"
      ]
    },
    {
      "cell_type": "markdown",
      "metadata": {
        "id": "W2jSoSKUqxum"
      },
      "source": [
        "Обработайте пропущенные значения и примените написанные функции onehot_encode() и minmax_scale().\n",
        "\n",
        "**Подсказка**: маску для категориальных признаков можно сделать фильтром cat_features_mask = (df.dtypes == \"object\").values"
      ]
    },
    {
      "cell_type": "markdown",
      "metadata": {
        "id": "VWKjAef_qxuo"
      },
      "source": [
        "Подробный анализ и подготовка датасета часто помогают улучшить качество модели. Ниже представлено несколько идей преобразований. Вы можете применить одно или несколько из этих преобразований (а можете не применять), чтобы помочь будущей модели.\n",
        "\n",
        "1. Посмотрите на количественные признаки. Возможно, в некоторых признаках есть выбросы - значения, которые сильно выбиваются. Такие значения полезно удалять. Советуем присмотреться к колонке Duration)\n",
        "\n",
        "2. Можно заметить, что one hot encoding сильно раздувает количество столбцов. Радикальное решение - можно попробовать выбросить все категориальные признаки из датасета.\n",
        "\n",
        "3. Если все-таки оставляете категориальные признаки, то подумайте, как уменьшить количество столбцов после one hot encoding. Признаки с большим количеством значений (Duration - 149! разных стран) можно удалить или попробовать сгруппировать некоторые значения.\n",
        "\n",
        "4. Downsampling. Датасет достаточно большой, разница в классах огромная. Можно уменьшить число наблюдений с частым ответом."
      ]
    },
    {
      "cell_type": "code",
      "source": [
        "import pandas as pd\n",
        "import numpy as np\n",
        "from sklearn.model_selection import train_test_split\n",
        "from sklearn.linear_model import LinearRegression\n",
        "from sklearn.metrics import mean_squared_error, accuracy_score\n",
        "import matplotlib.pyplot as plt"
      ],
      "metadata": {
        "id": "TxpdD8ATsRmA"
      },
      "execution_count": null,
      "outputs": []
    },
    {
      "cell_type": "code",
      "execution_count": null,
      "metadata": {
        "id": "LoWIIettqxun",
        "colab": {
          "base_uri": "https://localhost:8080/",
          "height": 178
        },
        "outputId": "bc9af3fb-ba6c-4ffc-c4dd-7dd759291a24"
      },
      "outputs": [
        {
          "output_type": "execute_result",
          "data": {
            "text/plain": [
              "Claim\n",
              "No     62399\n",
              "Yes      927\n",
              "Name: count, dtype: int64"
            ],
            "text/html": [
              "<div>\n",
              "<style scoped>\n",
              "    .dataframe tbody tr th:only-of-type {\n",
              "        vertical-align: middle;\n",
              "    }\n",
              "\n",
              "    .dataframe tbody tr th {\n",
              "        vertical-align: top;\n",
              "    }\n",
              "\n",
              "    .dataframe thead th {\n",
              "        text-align: right;\n",
              "    }\n",
              "</style>\n",
              "<table border=\"1\" class=\"dataframe\">\n",
              "  <thead>\n",
              "    <tr style=\"text-align: right;\">\n",
              "      <th></th>\n",
              "      <th>count</th>\n",
              "    </tr>\n",
              "    <tr>\n",
              "      <th>Claim</th>\n",
              "      <th></th>\n",
              "    </tr>\n",
              "  </thead>\n",
              "  <tbody>\n",
              "    <tr>\n",
              "      <th>No</th>\n",
              "      <td>62399</td>\n",
              "    </tr>\n",
              "    <tr>\n",
              "      <th>Yes</th>\n",
              "      <td>927</td>\n",
              "    </tr>\n",
              "  </tbody>\n",
              "</table>\n",
              "</div><br><label><b>dtype:</b> int64</label>"
            ]
          },
          "metadata": {},
          "execution_count": 685
        }
      ],
      "source": [
        "data = pd.read_csv(\"travel insurance.csv\")\n",
        "data = data.drop([\"Agency\", \"Product Name\", \"Destination\"], axis=1)\n",
        "data.Claim.value_counts()"
      ]
    },
    {
      "cell_type": "markdown",
      "source": [
        "#### Downsampling. Так как у нас невероятно огромная разница в классах (927 к 62399), то данная часть наиболее важная в предобработке данных\n"
      ],
      "metadata": {
        "id": "o4c2hyYa8SIW"
      }
    },
    {
      "cell_type": "code",
      "source": [
        "data = pd.concat([data[data['Claim'] == 'No'].head(2500), data[data['Claim'] == 'Yes']])\n",
        "data.Claim.value_counts()"
      ],
      "metadata": {
        "colab": {
          "base_uri": "https://localhost:8080/",
          "height": 178
        },
        "id": "QQEt3EXN8rn1",
        "outputId": "4a9280a9-8c09-466a-f12d-ed28f1461a0a"
      },
      "execution_count": null,
      "outputs": [
        {
          "output_type": "execute_result",
          "data": {
            "text/plain": [
              "Claim\n",
              "No     2500\n",
              "Yes     927\n",
              "Name: count, dtype: int64"
            ],
            "text/html": [
              "<div>\n",
              "<style scoped>\n",
              "    .dataframe tbody tr th:only-of-type {\n",
              "        vertical-align: middle;\n",
              "    }\n",
              "\n",
              "    .dataframe tbody tr th {\n",
              "        vertical-align: top;\n",
              "    }\n",
              "\n",
              "    .dataframe thead th {\n",
              "        text-align: right;\n",
              "    }\n",
              "</style>\n",
              "<table border=\"1\" class=\"dataframe\">\n",
              "  <thead>\n",
              "    <tr style=\"text-align: right;\">\n",
              "      <th></th>\n",
              "      <th>count</th>\n",
              "    </tr>\n",
              "    <tr>\n",
              "      <th>Claim</th>\n",
              "      <th></th>\n",
              "    </tr>\n",
              "  </thead>\n",
              "  <tbody>\n",
              "    <tr>\n",
              "      <th>No</th>\n",
              "      <td>2500</td>\n",
              "    </tr>\n",
              "    <tr>\n",
              "      <th>Yes</th>\n",
              "      <td>927</td>\n",
              "    </tr>\n",
              "  </tbody>\n",
              "</table>\n",
              "</div><br><label><b>dtype:</b> int64</label>"
            ]
          },
          "metadata": {},
          "execution_count": 686
        }
      ]
    },
    {
      "cell_type": "markdown",
      "source": [
        "#### Убираем пропуски\n"
      ],
      "metadata": {
        "id": "OSE579R2SylF"
      }
    },
    {
      "cell_type": "code",
      "source": [
        "print(data.isna().any()) # -> Gender: True\n",
        "# Заполним пропуски Gender чаще встречающимся полом\n",
        "print(data[\"Gender\"].value_counts())\n",
        "data[\"Gender\"] = data[\"Gender\"].fillna('F')"
      ],
      "metadata": {
        "colab": {
          "base_uri": "https://localhost:8080/"
        },
        "id": "m_0tvi2Zy4SM",
        "outputId": "c0fede88-45b2-4a7c-b946-af35bd7d31f5"
      },
      "execution_count": null,
      "outputs": [
        {
          "output_type": "stream",
          "name": "stdout",
          "text": [
            "Agency Type             False\n",
            "Distribution Channel    False\n",
            "Claim                   False\n",
            "Duration                False\n",
            "Net Sales               False\n",
            "Commision (in value)    False\n",
            "Gender                   True\n",
            "Age                     False\n",
            "dtype: bool\n",
            "Gender\n",
            "M    582\n",
            "F    568\n",
            "Name: count, dtype: int64\n"
          ]
        }
      ]
    },
    {
      "cell_type": "markdown",
      "source": [
        "#### Преобразовываем категориальные значения"
      ],
      "metadata": {
        "id": "1mby68pUTDZJ"
      }
    },
    {
      "cell_type": "code",
      "source": [
        "def onehot_encoding(array: np.ndarray) -> np.ndarray:\n",
        "    features_count = len(set(array))\n",
        "    objects_count = array.size\n",
        "    one_hot = np.zeros(features_count * objects_count).reshape(objects_count, features_count)\n",
        "    array_sorted = list(set(array))\n",
        "    array_sorted.sort()\n",
        "    features = {array_sorted[i]: i for i in range(features_count)}\n",
        "    for i in range(objects_count):\n",
        "        one_hot[i, features[array[i]]] = 1\n",
        "    return one_hot.astype(int)"
      ],
      "metadata": {
        "id": "SSqqjR02yx1L"
      },
      "execution_count": null,
      "outputs": []
    },
    {
      "cell_type": "code",
      "source": [
        "def minmax_scale(X: np.ndarray) -> np.ndarray:\n",
        "    X_scaled = []\n",
        "    for x in X:\n",
        "        x_scaled = []\n",
        "        for i in range(x.size):\n",
        "            znam = X[:, i].max(axis=0) - X[:, i].min(axis=0)\n",
        "            if znam != 0:\n",
        "                x_scaled.append((x[i] - X[:, i].min(axis=0)) / znam)\n",
        "            else:\n",
        "                x_scaled.append(0.)\n",
        "        X_scaled.append(x_scaled)\n",
        "\n",
        "    return np.array(X_scaled)"
      ],
      "metadata": {
        "id": "yQl8KDpEy0ns"
      },
      "execution_count": null,
      "outputs": []
    },
    {
      "cell_type": "code",
      "source": [
        "# Преобразовываем Agency Type\n",
        "\n",
        "# print(data[\"Agency Type\"].unique()) # -> ['Travel Agency' 'Airlines']\n",
        "agency_column = np.array(data[\"Agency Type\"])\n",
        "data = data.drop(\"Agency Type\", axis=1)\n",
        "encoded_agency_column = onehot_encoding(agency_column)\n",
        "data['Travel Agency'] = encoded_agency_column[:, 0]\n",
        "data['Airlines'] = encoded_agency_column[:, 1]"
      ],
      "metadata": {
        "id": "oMyDbq2ixYiS"
      },
      "execution_count": null,
      "outputs": []
    },
    {
      "cell_type": "code",
      "source": [
        "# Преобразовываем Distribution Channel\n",
        "\n",
        "# print(data[\"Distribution Channel\"].unique()) # -> ['Offline' 'Online']\n",
        "channel_column = np.array(data[\"Distribution Channel\"])\n",
        "data = data.drop(\"Distribution Channel\", axis=1)\n",
        "encoded_channel_column = onehot_encoding(channel_column)\n",
        "data[\"Online\"] = encoded_channel_column[:, 1]"
      ],
      "metadata": {
        "id": "upR-GgFmxnen"
      },
      "execution_count": null,
      "outputs": []
    },
    {
      "cell_type": "code",
      "source": [
        "# Преобразовываем Gender\n",
        "\n",
        "# print(data[\"Gender\"].unique()) # -> ['F' 'M']\n",
        "channel_column = np.array(data[\"Gender\"])\n",
        "data = data.drop(\"Gender\", axis=1)\n",
        "encoded_channel_column = onehot_encoding(channel_column)\n",
        "data[\"Male\"] = encoded_channel_column[:, 1]"
      ],
      "metadata": {
        "id": "13OdR7xPTOMC"
      },
      "execution_count": null,
      "outputs": []
    },
    {
      "cell_type": "code",
      "source": [
        "# Удаляем выбросы\n",
        "data[\"Duration\"].describe()\n",
        "data = data[data[\"Duration\"] <= 200]"
      ],
      "metadata": {
        "id": "vNDhcMfsHEfY"
      },
      "execution_count": null,
      "outputs": []
    },
    {
      "cell_type": "code",
      "source": [
        "data[\"Claim\"] = np.where(data['Claim'] == 'Yes', 1,0)\n",
        "y = np.array(data[\"Claim\"])\n",
        "data.drop([\"Claim\"], axis=1, inplace=True)"
      ],
      "metadata": {
        "id": "tZAQepHpFGPY"
      },
      "execution_count": null,
      "outputs": []
    },
    {
      "cell_type": "code",
      "source": [
        "data_array = np.array(data)\n",
        "for i in range(data.shape[1]):\n",
        "  data.iloc[:, [i]] = minmax_scale(data_array[:, i].reshape(len(data_array), 1))"
      ],
      "metadata": {
        "id": "vNSL3r7jbuRE",
        "colab": {
          "base_uri": "https://localhost:8080/"
        },
        "outputId": "2e9885fb-6d1b-45fa-cc8b-711616fe5752"
      },
      "execution_count": null,
      "outputs": [
        {
          "output_type": "stream",
          "name": "stderr",
          "text": [
            "<ipython-input-695-04d6133b9aef>:3: FutureWarning: Setting an item of incompatible dtype is deprecated and will raise in a future error of pandas. Value '[0.93939394 0.93939394 0.32828283 ... 0.03535354 0.13636364 0.06060606]' has dtype incompatible with int64, please explicitly cast to a compatible dtype first.\n",
            "  data.iloc[:, [i]] = minmax_scale(data_array[:, i].reshape(len(data_array), 1))\n",
            "<ipython-input-695-04d6133b9aef>:3: FutureWarning: Setting an item of incompatible dtype is deprecated and will raise in a future error of pandas. Value '[0.64423077 0.54807692 0.17307692 ... 0.15384615 0.15384615 0.13461538]' has dtype incompatible with int64, please explicitly cast to a compatible dtype first.\n",
            "  data.iloc[:, [i]] = minmax_scale(data_array[:, i].reshape(len(data_array), 1))\n"
          ]
        }
      ]
    },
    {
      "cell_type": "markdown",
      "metadata": {
        "id": "lzY1qiBLqxup"
      },
      "source": [
        "### Применение линейной регрессии (10 баллов)"
      ]
    },
    {
      "cell_type": "markdown",
      "metadata": {
        "id": "miwIw9Vuqxup"
      },
      "source": [
        "Это задача классификации, но её можно решить с помощью линейной регрессии, если округлять предсказанный ответ до целого и выбирать ближайший по значению ответ из множества {0, 1}.\n",
        "\n",
        "Вынесите признак 'Claim' в вектор ответов и разделите датасет на обучающую и тестовую выборку в соотношении 80 к 20. Зафиксируйте random_state.\n",
        "\n",
        "**Подсказка:** быстро перевести Yes/No в 1/0 можно так - np.where(df['Claim'] == 'Yes', 1,0)"
      ]
    },
    {
      "cell_type": "code",
      "execution_count": null,
      "metadata": {
        "id": "qXt_CmJNqxup"
      },
      "outputs": [],
      "source": [
        "# разделение на test/train\n",
        "X_train, X_test, Y_train, Y_test = train_test_split(data, y, train_size=0.75)"
      ]
    },
    {
      "cell_type": "markdown",
      "metadata": {
        "id": "dFWWVkWXqxuq"
      },
      "source": [
        "Найдите аналитическое решение для обучающей выборки: обычное и регуляризацией l2."
      ]
    },
    {
      "cell_type": "code",
      "source": [
        "X_train_analitical = X_train.copy()\n",
        "X_train_analitical.insert(0, \"Zero weight\", [1] * len(X_train_analitical))\n",
        "X_train_analitical\n",
        "X_test_analitical = X_test.copy()\n",
        "X_test_analitical.insert(0, \"Zero weight\", [1] * len(X_test_analitical))"
      ],
      "metadata": {
        "id": "mDIc1MvEDzBo"
      },
      "execution_count": null,
      "outputs": []
    },
    {
      "cell_type": "code",
      "execution_count": null,
      "metadata": {
        "id": "6duEDxbpqxuq",
        "colab": {
          "base_uri": "https://localhost:8080/"
        },
        "outputId": "17a53e88-a1d3-4b48-b90e-9cecdc29b4fb"
      },
      "outputs": [
        {
          "output_type": "execute_result",
          "data": {
            "text/plain": [
              "array([ 1.25673486, -0.08553943,  0.9819763 ,  0.149515  , -0.47301887,\n",
              "        0.39427153, -0.06711942, -0.36494835, -0.04390461])"
            ]
          },
          "metadata": {},
          "execution_count": 698
        }
      ],
      "source": [
        "# посчитайте аналитическое решение\n",
        "w_analitical = np.array(np.linalg.inv(X_train_analitical.T @ X_train_analitical) @ X_train_analitical.T @ Y_train)\n",
        "w_analitical"
      ]
    },
    {
      "cell_type": "code",
      "execution_count": null,
      "metadata": {
        "id": "gTJIEfjLqxuq",
        "colab": {
          "base_uri": "https://localhost:8080/"
        },
        "outputId": "f98065a4-c6ab-4bf9-d257-2051a181a0fe"
      },
      "outputs": [
        {
          "output_type": "execute_result",
          "data": {
            "text/plain": [
              "array([ 0.91811238, -0.08666432, -1.8250501 ,  1.69412497, -0.65957088,\n",
              "        0.63099053,  0.28712185, -0.59758985, -0.05039857])"
            ]
          },
          "metadata": {},
          "execution_count": 699
        }
      ],
      "source": [
        "# посчитать аналитическое решение с регуляризацией\n",
        "u = 2\n",
        "w_analitical_l2 = np.array(np.linalg.inv(X_train_analitical.T @ X_train_analitical - u**2 * np.eye(X_train_analitical.shape[1])) @ X_train_analitical.T @ Y_train)\n",
        "w_analitical_l2"
      ]
    },
    {
      "cell_type": "code",
      "source": [
        "Y_pred_anilitical = []\n",
        "Y_pred_anilitical_l2 = []\n",
        "for i in range(X_test_analitical.shape[0]):\n",
        "  y_pred = y_l2_pred = 0\n",
        "  for j in range(X_test_analitical.shape[1]):\n",
        "    y_pred += w_analitical[j] * X_test_analitical.iloc[i, j]\n",
        "    y_l2_pred += w_analitical_l2[j] * X_test_analitical.iloc[i, j]\n",
        "  Y_pred_anilitical.append(round(y_pred))\n",
        "  Y_pred_anilitical_l2.append(round(y_l2_pred))"
      ],
      "metadata": {
        "id": "YIPT38pBEgre"
      },
      "execution_count": null,
      "outputs": []
    },
    {
      "cell_type": "markdown",
      "metadata": {
        "id": "jVdZ8Axaqxuq"
      },
      "source": [
        "Постройте модель LinearRegression, примените к тестовой выборке и посчитайте MSE (можно использовать библиотеку sklearn)"
      ]
    },
    {
      "cell_type": "code",
      "execution_count": null,
      "metadata": {
        "id": "xVTOevjtqxur",
        "colab": {
          "base_uri": "https://localhost:8080/"
        },
        "outputId": "45cf1996-22f6-497d-94d2-f75ac390fc1c"
      },
      "outputs": [
        {
          "output_type": "execute_result",
          "data": {
            "text/plain": [
              "array([-0.11823274,  1.29843381,  0.35286774, -0.45542851,  0.16921538,\n",
              "       -0.16921538, -0.36494835, -0.04390461])"
            ]
          },
          "metadata": {},
          "execution_count": 701
        }
      ],
      "source": [
        "# обучите модель линейной регрессии LinearRegression на обучающей выборке, примените к тестовой\n",
        "model = LinearRegression()\n",
        "model.fit(X_train, Y_train)\n",
        "\n",
        "Y_pred = model.predict(X_test)\n",
        "Y_pred = Y_pred.round()\n",
        "model.coef_"
      ]
    },
    {
      "cell_type": "code",
      "execution_count": null,
      "metadata": {
        "id": "nASVWY7oqxur",
        "colab": {
          "base_uri": "https://localhost:8080/"
        },
        "outputId": "d6f72fb4-0cfe-4e7a-91f2-82ea24d92662"
      },
      "outputs": [
        {
          "output_type": "stream",
          "name": "stdout",
          "text": [
            "0.21611253196930946 0.7762148337595908 0.24168797953964194\n"
          ]
        }
      ],
      "source": [
        "mse_sklearn = mean_squared_error(Y_test, Y_pred)\n",
        "mse_analitical = mean_squared_error(Y_test, Y_pred_anilitical)\n",
        "mse_analitical_l2 = mean_squared_error(Y_test, Y_pred_anilitical_l2)\n",
        "\n",
        "accuracy_sklearn = accuracy_score(Y_test, Y_pred)\n",
        "accuracy_analitical = accuracy_score(Y_test, Y_pred_anilitical)\n",
        "accuracy_analitical_l2 = accuracy_score(Y_test, Y_pred_anilitical_l2)\n",
        "print(mse_sklearn, mse_analitical, mse_analitical_l2)\n"
      ]
    },
    {
      "cell_type": "markdown",
      "metadata": {
        "id": "6Ta7IFD6qxur"
      },
      "source": [
        "### Вывод (1 балла)"
      ]
    },
    {
      "cell_type": "markdown",
      "metadata": {
        "id": "R-eWfBWQqxur"
      },
      "source": [
        "Напишите краткий вывод по заданию (достаточно пары предложений). Расскажите, какие способы предобработки данных вы выбрали и почему. Насколько хороша ваша модель?\n",
        "\n",
        "САМОЕ ВАЖНОЕ - использовал андер сэмплинг (необходим, т.к. огромная разница в классах). Избавился от выбросов в столбце Duration и преобразовал столбцы Agency Type, Gender, Distributin Channel, содержащие категориальные признаки, также заполнил пропуски в столбце Dender чаще встречающимся значением этого столбца. Модель для линейной регрессии выдаёт нормальные результаты, MSE\\~0.3 (для решения sklearn и аналитического с регуляризацией). Худшие результаты показало аналитическое решение без регуляризации\n",
        "\n",
        "\n",
        "\n"
      ]
    }
  ],
  "metadata": {
    "colab": {
      "provenance": []
    },
    "kernelspec": {
      "display_name": "Python 3",
      "language": "python",
      "name": "python3"
    },
    "language_info": {
      "codemirror_mode": {
        "name": "ipython",
        "version": 3
      },
      "file_extension": ".py",
      "mimetype": "text/x-python",
      "name": "python",
      "nbconvert_exporter": "python",
      "pygments_lexer": "ipython3",
      "version": "3.8.5"
    }
  },
  "nbformat": 4,
  "nbformat_minor": 0
}